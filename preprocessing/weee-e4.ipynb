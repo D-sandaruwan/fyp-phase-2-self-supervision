{
 "cells": [
  {
   "cell_type": "code",
   "execution_count": 66,
   "metadata": {},
   "outputs": [
    {
     "name": "stdout",
     "output_type": "stream",
     "text": [
      "(1443968, 5)\n"
     ]
    }
   ],
   "source": [
    "import pandas as pd\n",
    "import matplotlib.pyplot as plt\n",
    "\n",
    "path = \"../weee/dataset/\"\n",
    "\n",
    "df_all = pd.DataFrame({'user_id': [], 'x': [], 'y': [], 'z': []})\n",
    "\n",
    "df_labels = pd.read_csv(f'{path}/VO2.csv')\n",
    "\n",
    "for i in range(17):\n",
    "\n",
    "    # Two subjects should neglected because of the study issues\n",
    "    if i+1 in [6, 14]:\n",
    "        continue\n",
    "\n",
    "    # Read CSV file\n",
    "    df = pd.read_csv(f'{path}/P{i+1:02d}/E4/ACC.csv', header=None, names=['x', 'y', 'z'])\n",
    "\n",
    "    # Take the first row as the start timestamp\n",
    "    start = df.iloc[0, :]['x']*1000\n",
    "\n",
    "    # Convert above time stamp to datetime\n",
    "    start = pd.to_datetime(start, unit='ms')\n",
    "\n",
    "    # Remove first two rows from the df\n",
    "    df = df.iloc[2:, :]\n",
    "\n",
    "    # Create a timestamp column using start timestamp and with the sampling rate of 32 Hz\n",
    "    df['timestamp'] = pd.date_range(start=start, periods=df.shape[0], freq='31.25ms')\n",
    "\n",
    "    # Make the timestamp column as the index\n",
    "    df.set_index('timestamp', inplace=True)\n",
    "\n",
    "    # resample the data to 50Hz with interpolation\n",
    "    df = df.resample('20ms').ffill()\n",
    "\n",
    "    # Get the first and last start_timestamp values of particular user_id from the df_labels\n",
    "    start_timestamp = pd.to_datetime(df_labels[df_labels['user_id'] == i+1]['start_timestamp'].iloc[0])\n",
    "    end_timestamp = pd.to_datetime(df_labels[df_labels['user_id'] == i+1]['end_timestamp'].iloc[-1])\n",
    "\n",
    "    # Get the data only between start_timestamp and end_timestamp\n",
    "    df = df[start_timestamp:end_timestamp]\n",
    "\n",
    "    # Divide all columns by 64\n",
    "    df = df / 64\n",
    "\n",
    "    # Add a column for user_id\n",
    "    df['user_id'] = i+1\n",
    "\n",
    "    # Make index as a range column and make timestamp as the first column\n",
    "    df.reset_index(inplace=True)\n",
    "\n",
    "    # get the dataframe only for user_id = i+1 from df_labels\n",
    "    df_label = df_labels[df_labels['user_id'] == i+1]\n",
    "\n",
    "    # Neglect the last df.shape[0] % 32 rows\n",
    "    if df.shape[0] % 32 != 0:\n",
    "        df = df.iloc[:-(df.shape[0] % 32), :]\n",
    "\n",
    "    # Make the timestamp of the df datetime format\n",
    "    df['timestamp'] = pd.to_datetime(df['timestamp'])\n",
    "\n",
    "    # Append to the dataframe\n",
    "    df_all = pd.concat([df_all, df])\n",
    "\n",
    "# Save to CSV file\n",
    "df_all.to_csv(f'{path}/combined_e4_acc.csv', index=False)\n",
    "# Print the shape of df_all\n",
    "print(df_all.shape)"
   ]
  }
 ],
 "metadata": {
  "kernelspec": {
   "display_name": "Python 3",
   "language": "python",
   "name": "python3"
  },
  "language_info": {
   "codemirror_mode": {
    "name": "ipython",
    "version": 3
   },
   "file_extension": ".py",
   "mimetype": "text/x-python",
   "name": "python",
   "nbconvert_exporter": "python",
   "pygments_lexer": "ipython3",
   "version": "3.10.6"
  },
  "orig_nbformat": 4
 },
 "nbformat": 4,
 "nbformat_minor": 2
}
