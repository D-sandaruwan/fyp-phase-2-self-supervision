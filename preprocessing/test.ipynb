{
 "cells": [
  {
   "cell_type": "code",
   "execution_count": 4,
   "metadata": {},
   "outputs": [],
   "source": [
    "import pandas as pd\n",
    "import numpy as np\n",
    "import matplotlib.pyplot as plt"
   ]
  },
  {
   "cell_type": "code",
   "execution_count": 2,
   "metadata": {},
   "outputs": [],
   "source": [
    "path = \"../capture24\"\n",
    "# i = 132\n",
    "# df = pd.read_csv(f'{path}/P{i+1:03d}.csv.gz', compression='gzip', low_memory=False)\n",
    "# df.shape"
   ]
  },
  {
   "cell_type": "code",
   "execution_count": 3,
   "metadata": {},
   "outputs": [],
   "source": [
    "def create_windows_np(data, window_size, stride):\n",
    "    num_samples, num_channels = data.shape\n",
    "    num_windows = (num_samples - window_size) // stride + 1\n",
    "\n",
    "    shape = (num_windows, window_size, num_channels)\n",
    "    strides = (data.strides[0] * stride, data.strides[0], data.strides[1])\n",
    "\n",
    "    windows = np.lib.stride_tricks.as_strided(data, shape=shape, strides=strides)\n",
    "\n",
    "    # transpose the windows array to the desired shape\n",
    "    # windows = np.transpose(windows, axes=(0, 2, 1))\n",
    "\n",
    "    return windows"
   ]
  },
  {
   "cell_type": "code",
   "execution_count": 3,
   "metadata": {},
   "outputs": [
    {
     "name": "stdout",
     "output_type": "stream",
     "text": [
      "P001: 5010001\n",
      "P002: 4410001\n",
      "P003: 4860001\n",
      "P004: 3895893\n",
      "P005: 4950001\n",
      "P006: 5715001\n",
      "P007: 5040001\n",
      "P008: 5130001\n",
      "P009: 3653926\n",
      "P010: 4590001\n",
      "P011: 4860001\n",
      "P012: 4725001\n",
      "P013: 4230801\n",
      "P014: 4995001\n",
      "P015: 4680001\n",
      "P016: 4617001\n",
      "P017: 5040001\n",
      "P018: 4455001\n",
      "P019: 4785001\n",
      "P020: 3960001\n"
     ]
    }
   ],
   "source": [
    "df_all = pd.DataFrame({'x': [], 'y': [], 'z': [], 'user_id': []})  # add a 'user_id' column to the DataFrame\n",
    "for i in range(20):\n",
    "    user_id = f'P{i+1:03d}'  # set the user ID for this iteration\n",
    "    df = pd.read_csv(f'{path}/{user_id}.csv.gz', compression='gzip', low_memory=False)\n",
    "    df = df.drop(columns=['annotation'])\n",
    "    # convert the 'time' column to a datetime object\n",
    "    df['time'] = pd.to_datetime(df['time'], origin='unix')\n",
    "    # set the 'time' column as the DataFrame index\n",
    "    df.set_index('time', inplace=True)\n",
    "    # resample the DataFrame from 100 Hz to 50 Hz\n",
    "    df = df.resample('20ms').mean()\n",
    "    df = df.reset_index().reset_index(drop=True)\n",
    "    df['user_id'] = i+1  # set the user ID for this DataFrame\n",
    "    df_all = pd.concat([df_all, df.loc[:df.shape[0] - df.shape[0] % 100 - 1]])\n",
    "    print(f'{user_id}: {df.shape[0]}')\n",
    "    del df\n",
    "\n",
    "# reset the index of the df_all DataFrame\n",
    "df_all = df_all.reset_index(drop=True)\n",
    "\n",
    "# save the df_all DataFrame to a Feather file\n",
    "df_all.to_feather(f'{path}/training.feather')\n",
    "del df_all"
   ]
  },
  {
   "cell_type": "code",
   "execution_count": 5,
   "metadata": {},
   "outputs": [
    {
     "data": {
      "text/html": [
       "<div>\n",
       "<style scoped>\n",
       "    .dataframe tbody tr th:only-of-type {\n",
       "        vertical-align: middle;\n",
       "    }\n",
       "\n",
       "    .dataframe tbody tr th {\n",
       "        vertical-align: top;\n",
       "    }\n",
       "\n",
       "    .dataframe thead th {\n",
       "        text-align: right;\n",
       "    }\n",
       "</style>\n",
       "<table border=\"1\" class=\"dataframe\">\n",
       "  <thead>\n",
       "    <tr style=\"text-align: right;\">\n",
       "      <th></th>\n",
       "      <th>x</th>\n",
       "      <th>y</th>\n",
       "      <th>z</th>\n",
       "      <th>user_id</th>\n",
       "      <th>time</th>\n",
       "    </tr>\n",
       "  </thead>\n",
       "  <tbody>\n",
       "    <tr>\n",
       "      <th>0</th>\n",
       "      <td>-0.46669</td>\n",
       "      <td>-0.533341</td>\n",
       "      <td>0.658472</td>\n",
       "      <td>1.0</td>\n",
       "      <td>2016-11-13 02:18:00.000</td>\n",
       "    </tr>\n",
       "    <tr>\n",
       "      <th>1</th>\n",
       "      <td>-0.46669</td>\n",
       "      <td>-0.533341</td>\n",
       "      <td>0.658472</td>\n",
       "      <td>1.0</td>\n",
       "      <td>2016-11-13 02:18:00.020</td>\n",
       "    </tr>\n",
       "    <tr>\n",
       "      <th>2</th>\n",
       "      <td>-0.46669</td>\n",
       "      <td>-0.533341</td>\n",
       "      <td>0.658472</td>\n",
       "      <td>1.0</td>\n",
       "      <td>2016-11-13 02:18:00.040</td>\n",
       "    </tr>\n",
       "    <tr>\n",
       "      <th>3</th>\n",
       "      <td>-0.46669</td>\n",
       "      <td>-0.541122</td>\n",
       "      <td>0.658472</td>\n",
       "      <td>1.0</td>\n",
       "      <td>2016-11-13 02:18:00.060</td>\n",
       "    </tr>\n",
       "    <tr>\n",
       "      <th>4</th>\n",
       "      <td>-0.46669</td>\n",
       "      <td>-0.541122</td>\n",
       "      <td>0.658472</td>\n",
       "      <td>1.0</td>\n",
       "      <td>2016-11-13 02:18:00.080</td>\n",
       "    </tr>\n",
       "  </tbody>\n",
       "</table>\n",
       "</div>"
      ],
      "text/plain": [
       "         x         y         z  user_id                    time\n",
       "0 -0.46669 -0.533341  0.658472      1.0 2016-11-13 02:18:00.000\n",
       "1 -0.46669 -0.533341  0.658472      1.0 2016-11-13 02:18:00.020\n",
       "2 -0.46669 -0.533341  0.658472      1.0 2016-11-13 02:18:00.040\n",
       "3 -0.46669 -0.541122  0.658472      1.0 2016-11-13 02:18:00.060\n",
       "4 -0.46669 -0.541122  0.658472      1.0 2016-11-13 02:18:00.080"
      ]
     },
     "execution_count": 5,
     "metadata": {},
     "output_type": "execute_result"
    }
   ],
   "source": [
    "df_feather = pd.read_feather(f'{path}/training.feather')\n",
    "df_feather.head()"
   ]
  },
  {
   "cell_type": "code",
   "execution_count": 23,
   "metadata": {},
   "outputs": [],
   "source": [
    "del df_feather"
   ]
  },
  {
   "cell_type": "code",
   "execution_count": 8,
   "metadata": {},
   "outputs": [
    {
     "data": {
      "text/plain": [
       "array([[ 0.04312329, -0.98836136, -0.20271571],\n",
       "       [ 0.05884642, -0.98836136, -0.20271571],\n",
       "       [ 0.05884642, -0.98836136, -0.20271571],\n",
       "       [ 0.05884642, -0.98836136, -0.20271571],\n",
       "       [ 0.04312329, -0.98836136, -0.20271571],\n",
       "       [ 0.05884642, -0.98836136, -0.20271571],\n",
       "       [ 0.05884642, -0.98836136, -0.20271571],\n",
       "       [ 0.05884642, -0.98836136, -0.20271571],\n",
       "       [ 0.05884642, -0.97270644, -0.20271571],\n",
       "       [ 0.05884642, -0.98836136, -0.20271571],\n",
       "       [ 0.05884642, -0.97270644, -0.20271571],\n",
       "       [ 0.05884642, -0.98836136, -0.20271571],\n",
       "       [ 0.05884642, -0.98836136, -0.20271571],\n",
       "       [ 0.05884642, -0.98836136, -0.20271571],\n",
       "       [ 0.05884642, -0.98836136, -0.20271571],\n",
       "       [ 0.05884642, -0.98836136, -0.20271571],\n",
       "       [ 0.05884642, -0.97270644, -0.20271571],\n",
       "       [ 0.05884642, -0.98836136, -0.20271571],\n",
       "       [ 0.05884642, -0.97270644, -0.20271571],\n",
       "       [ 0.05884642, -0.97270644, -0.20271571],\n",
       "       [ 0.05884642, -0.98836136, -0.20271571],\n",
       "       [ 0.05884642, -0.98836136, -0.20271571],\n",
       "       [ 0.05884642, -0.97270644, -0.20271571],\n",
       "       [ 0.04312329, -0.98836136, -0.20271571],\n",
       "       [ 0.05884642, -0.98836136, -0.20271571],\n",
       "       [ 0.05884642, -0.98836136, -0.20271571],\n",
       "       [ 0.05884642, -0.97270644, -0.20271571],\n",
       "       [ 0.05884642, -0.98836136, -0.20271571],\n",
       "       [ 0.04312329, -0.98836136, -0.20271571],\n",
       "       [ 0.05884642, -0.98836136, -0.20271571],\n",
       "       [ 0.05884642, -0.98836136, -0.20271571],\n",
       "       [ 0.04312329, -0.98836136, -0.20271571],\n",
       "       [ 0.05884642, -0.98836136, -0.20271571],\n",
       "       [ 0.05884642, -0.98836136, -0.20271571],\n",
       "       [ 0.05884642, -0.97270644, -0.20271571],\n",
       "       [ 0.05884642, -0.98836136, -0.20271571],\n",
       "       [ 0.05884642, -0.98836136, -0.18702365],\n",
       "       [ 0.05884642, -0.97270644, -0.20271571],\n",
       "       [ 0.05884642, -0.97270644, -0.20271571],\n",
       "       [ 0.05884642, -0.98836136, -0.20271571],\n",
       "       [ 0.05884642, -0.97270644, -0.20271571],\n",
       "       [ 0.05884642, -0.98836136, -0.20271571],\n",
       "       [ 0.05884642, -0.98836136, -0.20271571],\n",
       "       [ 0.05884642, -0.98836136, -0.20271571],\n",
       "       [ 0.05884642, -0.98836136, -0.20271571],\n",
       "       [ 0.05884642, -0.98836136, -0.20271571],\n",
       "       [ 0.05884642, -0.98836136, -0.20271571],\n",
       "       [ 0.05884642, -0.98836136, -0.20271571],\n",
       "       [ 0.05884642, -0.97270644, -0.20271571],\n",
       "       [ 0.05884642, -0.98836136, -0.20271571],\n",
       "       [ 0.05884642, -0.97270644, -0.20271571],\n",
       "       [ 0.05884642, -0.98836136, -0.20271571],\n",
       "       [ 0.04312329, -0.98836136, -0.20271571],\n",
       "       [ 0.04312329, -0.98836136, -0.20271571],\n",
       "       [ 0.05884642, -0.98836136, -0.20271571],\n",
       "       [ 0.04312329, -0.97270644, -0.20271571],\n",
       "       [ 0.05884642, -0.98836136, -0.20271571],\n",
       "       [ 0.05884642, -0.98836136, -0.20271571],\n",
       "       [ 0.05884642, -0.97270644, -0.18702365],\n",
       "       [ 0.05884642, -0.97270644, -0.18702365],\n",
       "       [ 0.05884642, -0.98836136, -0.20271571],\n",
       "       [ 0.05884642, -0.98836136, -0.20271571],\n",
       "       [ 0.05884642, -0.97270644, -0.20271571],\n",
       "       [ 0.05884642, -0.98836136, -0.20271571],\n",
       "       [ 0.05884642, -0.98836136, -0.20271571],\n",
       "       [ 0.05884642, -0.98836136, -0.20271571],\n",
       "       [ 0.05884642, -0.98836136, -0.20271571],\n",
       "       [ 0.05884642, -0.98836136, -0.20271571],\n",
       "       [ 0.05884642, -0.98836136, -0.20271571],\n",
       "       [ 0.05884642, -0.98836136, -0.20271571],\n",
       "       [ 0.05884642, -0.98836136, -0.20271571],\n",
       "       [ 0.05884642, -0.97270644, -0.20271571],\n",
       "       [ 0.05884642, -0.98836136, -0.20271571],\n",
       "       [ 0.05884642, -0.97270644, -0.20271571],\n",
       "       [ 0.05884642, -0.98836136, -0.20271571],\n",
       "       [ 0.05884642, -0.98836136, -0.20271571],\n",
       "       [ 0.04312329, -0.98836136, -0.20271571],\n",
       "       [ 0.05884642, -0.97270644, -0.18702365],\n",
       "       [ 0.04312329, -0.97270644, -0.20271571],\n",
       "       [ 0.05884642, -0.98836136, -0.20271571],\n",
       "       [ 0.05884642, -0.98836136, -0.18702365],\n",
       "       [ 0.05884642, -0.98836136, -0.20271571],\n",
       "       [ 0.05884642, -0.98836136, -0.18702365],\n",
       "       [ 0.05884642, -0.98836136, -0.18702365],\n",
       "       [ 0.05884642, -0.98836136, -0.18702365],\n",
       "       [ 0.05884642, -0.98836136, -0.20271571],\n",
       "       [ 0.05884642, -0.98836136, -0.18702365],\n",
       "       [ 0.05884642, -0.98836136, -0.20271571],\n",
       "       [ 0.05884642, -0.98836136, -0.18702365],\n",
       "       [ 0.05884642, -0.98836136, -0.20271571],\n",
       "       [ 0.05884642, -0.98836136, -0.20271571],\n",
       "       [ 0.05884642, -0.98836136, -0.20271571],\n",
       "       [ 0.05884642, -0.98836136, -0.20271571],\n",
       "       [ 0.05884642, -0.98836136, -0.20271571],\n",
       "       [ 0.05884642, -0.98836136, -0.20271571],\n",
       "       [ 0.05884642, -0.98836136, -0.20271571],\n",
       "       [ 0.05884642, -0.98836136, -0.20271571],\n",
       "       [ 0.05884642, -0.97270644, -0.20271571],\n",
       "       [ 0.05884642, -0.98836136, -0.20271571],\n",
       "       [ 0.05884642, -0.97270644, -0.20271571]])"
      ]
     },
     "execution_count": 8,
     "metadata": {},
     "output_type": "execute_result"
    }
   ],
   "source": [
    "windows = create_windows_np(df.drop(columns=['time', 'annotation']).values, 100, 50)\n",
    "windows[-1]"
   ]
  },
  {
   "cell_type": "code",
   "execution_count": 9,
   "metadata": {},
   "outputs": [
    {
     "data": {
      "text/plain": [
       "time          2016-12-20 04:51:00.000000\n",
       "x                               0.058846\n",
       "y                              -0.972706\n",
       "z                              -0.202716\n",
       "annotation        7030 sleeping;MET 0.95\n",
       "Name: 10500000, dtype: object"
      ]
     },
     "execution_count": 9,
     "metadata": {},
     "output_type": "execute_result"
    }
   ],
   "source": [
    "df.loc[df.shape[0]-1]"
   ]
  },
  {
   "cell_type": "code",
   "execution_count": 3,
   "metadata": {},
   "outputs": [
    {
     "data": {
      "text/plain": [
       "(5010001, 3)"
      ]
     },
     "execution_count": 3,
     "metadata": {},
     "output_type": "execute_result"
    }
   ],
   "source": [
    "df_copy = df.copy()\n",
    "\n",
    "# convert the 'time' column to a datetime object\n",
    "df_copy['time'] = pd.to_datetime(df_copy['time'], origin='unix')\n",
    "\n",
    "# set the 'time' column as the DataFrame index\n",
    "df_copy.set_index('time', inplace=True)\n",
    "\n",
    "# resample the DataFrame from 100 Hz to 50 Hz\n",
    "df_resampled = df_copy.drop(columns=['annotation']).resample('20ms').mean()\n",
    "\n",
    "df_resampled.shape"
   ]
  },
  {
   "cell_type": "code",
   "execution_count": 9,
   "metadata": {},
   "outputs": [
    {
     "data": {
      "image/png": "[encoded data removed]",
      "text/plain": [
       "<Figure size 1000x600 with 1 Axes>"
      ]
     },
     "metadata": {},
     "output_type": "display_data"
    }
   ],
   "source": [
    "fig, ax = plt.subplots(figsize=(10, 6))\n",
    "ax.plot(range(1, len(df)+1), df['x'], label='Original Data')\n",
    "ax.plot(range(1, len(df_resampled)+1), df_resampled['x'], label='Resampled Data')\n",
    "ax.legend()\n",
    "ax.set_xlabel('Time')\n",
    "ax.set_ylabel('X')\n",
    "plt.show()"
   ]
  },
  {
   "cell_type": "code",
   "execution_count": 5,
   "metadata": {},
   "outputs": [],
   "source": [
    "# df_empty = pd.DataFrame({'Time' : [], 'x': [], 'y': [], 'z': []})\n",
    "# for i in range(10):\n",
    "#     df = pd.read_csv(f'{path}/P{i+1:03d}.csv.gz', compression='gzip', low_memory=False)\n",
    "#     df_empty.concat(df)"
   ]
  },
  {
   "cell_type": "code",
   "execution_count": 13,
   "metadata": {},
   "outputs": [],
   "source": [
    "def create_windows_np(data, window_size, stride):\n",
    "    num_samples, num_channels = data.shape\n",
    "    num_windows = (num_samples - window_size) // stride + 1\n",
    "\n",
    "    shape = (num_windows, window_size, num_channels)\n",
    "    strides = (data.strides[0] * stride, data.strides[0], data.strides[1])\n",
    "\n",
    "    windows = np.lib.stride_tricks.as_strided(data, shape=shape, strides=strides)\n",
    "\n",
    "    # transpose the windows array to the desired shape\n",
    "    windows = np.transpose(windows, axes=(0, 2, 1))\n",
    "\n",
    "    return windows"
   ]
  },
  {
   "cell_type": "code",
   "execution_count": 14,
   "metadata": {},
   "outputs": [],
   "source": [
    "windows =  create_windows_np(df_resampled.values, 100, 50)"
   ]
  },
  {
   "cell_type": "code",
   "execution_count": 17,
   "metadata": {},
   "outputs": [
    {
     "data": {
      "text/plain": [
       "array([-0.46669036, -0.46669036, -0.46669036, -0.46669036, -0.46669036,\n",
       "       -0.4823338 , -0.4823338 , -0.47451208, -0.46669036, -0.46669036,\n",
       "       -0.46669036, -0.46669036, -0.46669036, -0.46669036, -0.46669036,\n",
       "       -0.46669036, -0.46669036, -0.46669036, -0.46669036, -0.46669036,\n",
       "       -0.46669036, -0.46669036, -0.46669036, -0.46669036, -0.46669036,\n",
       "       -0.46669036, -0.46669036, -0.46669036, -0.46669036, -0.46669036,\n",
       "       -0.46669036, -0.46669036, -0.46669036, -0.46669036, -0.46669036,\n",
       "       -0.47451208, -0.46669036, -0.46669036, -0.46669036, -0.46669036,\n",
       "       -0.46669036, -0.46669036, -0.46669036, -0.46669036, -0.46669036,\n",
       "       -0.46669036, -0.46669036, -0.46669036, -0.46669036, -0.46669036,\n",
       "       -0.46669036, -0.46669036, -0.46669036, -0.46669036, -0.46669036,\n",
       "       -0.46669036, -0.46669036, -0.46669036, -0.46669036, -0.46669036,\n",
       "       -0.46669036, -0.46669036, -0.46669036, -0.46669036, -0.46669036,\n",
       "       -0.46669036, -0.46669036, -0.46669036, -0.46669036, -0.46669036,\n",
       "       -0.46669036, -0.46669036, -0.46669036, -0.46669036, -0.46669036,\n",
       "       -0.46669036, -0.46669036, -0.46669036, -0.46669036, -0.46669036,\n",
       "       -0.46669036, -0.46669036, -0.46669036, -0.46669036, -0.46669036,\n",
       "       -0.46669036, -0.46669036, -0.46669036, -0.46669036, -0.46669036,\n",
       "       -0.46669036, -0.46669036, -0.46669036, -0.46669036, -0.46669036,\n",
       "       -0.46669036, -0.46669036, -0.46669036, -0.46669036, -0.46669036])"
      ]
     },
     "execution_count": 17,
     "metadata": {},
     "output_type": "execute_result"
    }
   ],
   "source": [
    "windows.shape\n",
    "windows[0][0]"
   ]
  },
  {
   "cell_type": "code",
   "execution_count": 3,
   "metadata": {},
   "outputs": [],
   "source": [
    "path = \"../capture24\"\n",
    "df = pd.read_feather(f'{path}/training.feather', columns=['x', 'y', 'z', 'user_id'])"
   ]
  },
  {
   "cell_type": "code",
   "execution_count": 26,
   "metadata": {},
   "outputs": [
    {
     "data": {
      "text/plain": [
       "x          180000\n",
       "y          180000\n",
       "z          180000\n",
       "user_id         0\n",
       "dtype: int64"
      ]
     },
     "execution_count": 26,
     "metadata": {},
     "output_type": "execute_result"
    }
   ],
   "source": [
    "df.loc[df['user_id']==17].isna().sum()"
   ]
  }
 ],
 "metadata": {
  "kernelspec": {
   "display_name": "Python 3",
   "language": "python",
   "name": "python3"
  },
  "language_info": {
   "codemirror_mode": {
    "name": "ipython",
    "version": 3
   },
   "file_extension": ".py",
   "mimetype": "text/x-python",
   "name": "python",
   "nbconvert_exporter": "python",
   "pygments_lexer": "ipython3",
   "version": "3.10.6"
  },
  "orig_nbformat": 4
 },
 "nbformat": 4,
 "nbformat_minor": 2
}
